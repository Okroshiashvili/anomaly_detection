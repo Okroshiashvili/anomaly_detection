{
 "cells": [
  {
   "cell_type": "code",
   "execution_count": null,
   "metadata": {},
   "outputs": [],
   "source": [
    "import pandas as pd\n",
    "import numpy as np\n",
    "import seaborn as sns\n",
    "import matplotlib.pyplot as plt\n",
    "\n",
    "from isolation_forest import IsolationForest\n",
    "\n",
    "\n",
    "plt.style.use(\"seaborn\")"
   ]
  },
  {
   "cell_type": "code",
   "execution_count": null,
   "metadata": {},
   "outputs": [],
   "source": [
    "def score(X, n_trees, sub_sample_size):\n",
    "    model = IsolationForest(n_trees=n_trees, sub_sample_size=sub_sample_size)\n",
    "    model.fit(X)\n",
    "    average_path_length, anomaly_scores = model.anomaly_score(X)\n",
    "    prediction = model.predict(anomaly_scores)\n",
    "    return average_path_length, anomaly_scores, prediction"
   ]
  },
  {
   "cell_type": "code",
   "execution_count": null,
   "metadata": {},
   "outputs": [],
   "source": [
    "df = pd.read_csv(\"/Users/okroshiashvili/Desktop/anomaly_detection/data/data.csv\")"
   ]
  },
  {
   "cell_type": "code",
   "execution_count": null,
   "metadata": {},
   "outputs": [],
   "source": [
    "average_path_length, anomaly_scores, prediction = score(df, n_trees=1000, sub_sample_size=256)\n",
    "\n",
    "df[\"score\"] = prediction"
   ]
  },
  {
   "cell_type": "code",
   "execution_count": null,
   "metadata": {},
   "outputs": [],
   "source": [
    "df.head()"
   ]
  },
  {
   "cell_type": "code",
   "execution_count": null,
   "metadata": {},
   "outputs": [],
   "source": [
    "# These are outlier values according to Isolation Forest\n",
    "\n",
    "df[\"data\"].iloc[np.where(prediction == -1)[0]]"
   ]
  },
  {
   "cell_type": "code",
   "execution_count": null,
   "metadata": {},
   "outputs": [],
   "source": [
    "outlier_values = df[\"data\"].iloc[np.where(prediction == -1)[0]]\n",
    "\n",
    "# Plot the result\n",
    "plt.figure(figsize=(15, 8))\n",
    "\n",
    "sns.lineplot(x=range(len(df)), y=df[\"data\"])\n",
    "\n",
    "plt.scatter(x=outlier_values.index, y=outlier_values, marker='o', s=200, color=\"red\");"
   ]
  },
  {
   "cell_type": "code",
   "execution_count": null,
   "metadata": {},
   "outputs": [],
   "source": []
  }
 ],
 "metadata": {
  "kernelspec": {
   "display_name": "Python 3.8.13 ('iforest')",
   "language": "python",
   "name": "python3"
  },
  "language_info": {
   "codemirror_mode": {
    "name": "ipython",
    "version": 3
   },
   "file_extension": ".py",
   "mimetype": "text/x-python",
   "name": "python",
   "nbconvert_exporter": "python",
   "pygments_lexer": "ipython3",
   "version": "3.8.13"
  },
  "orig_nbformat": 4,
  "vscode": {
   "interpreter": {
    "hash": "eeaa34fcc977691cdab4bd83554a06d9c3901d9d4766ca23b3a1cdc9123bddb5"
   }
  }
 },
 "nbformat": 4,
 "nbformat_minor": 2
}
